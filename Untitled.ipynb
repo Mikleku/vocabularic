{
 "cells": [
  {
   "cell_type": "code",
   "execution_count": 219,
   "metadata": {},
   "outputs": [],
   "source": [
    "main={\n",
    "    \"meticulous\":\"дотошный\",\n",
    "    \"rye\":\"рожь\",\n",
    "    \"respire\":\"отдышаться\",\n",
    "    \"respiration\":\"дыхание\",\n",
    "    \"devise\":\"разрабатывать\",\n",
    "    \"enclose\":\"окружать\",\n",
    "    \"aspiration\":\"стермление\",\n",
    "    \"indirect\":\"косвенный\",\n",
    "    \"enhance\":\"усилить\",\n",
    "    \"feasible\":\"выполнимый\",\n",
    "    \"utilize\":\"использовать\",\n",
    "    \"seek\":\"искать\",\n",
    "    \"delight\":\"вострог\",\n",
    "    \"site\":\"место/участок\",\n",
    "    \"suit\":\"соответствовать/подходить\",\n",
    "    \"mediocre\":\"посредственный\",\n",
    "    \"employ\":\"использовать\",\n",
    "    \"regardless\":\"независимо\",\n",
    "    \"internal\":\"внутренний\",\n",
    "    \"counteract\":\"противодействовать\",\n",
    "    \"saliva\":\"слюна\",\n",
    "    \"rodent\":\"грызун\",\n",
    "    \"insulation\":\"изоляция\",\n",
    "    \"bluber\":\"лишний жирок(на теле)\",\n",
    "    \"germinate\":\"прорастать\",\n",
    "    \"biggie\":\"a big, important, or successful person or thing\",\n",
    "    \"chunk\":\"ломоть/кусок\",\n",
    "    \"exclude\":\"исключать\",\n",
    "    \"accrete\":\"сросшийся\",\n",
    "    \"advance\":\"продвижение\",\n",
    "    \"flatten\":\"расплющить\",\n",
    "    \"flatten out\":\"выровнять\",\n",
    "    \"is thought\":\"считается\",\n",
    "    \"accomplish\":\"выполнять\"\n",
    "}"
   ]
  },
  {
   "cell_type": "code",
   "execution_count": 227,
   "metadata": {},
   "outputs": [],
   "source": [
    "import datetime\n",
    "import pickle\n",
    "now = datetime.datetime.now()\n",
    "\n",
    "class wt:\n",
    "    def __init__(self):\n",
    "        self.word = \"\"\n",
    "        self.translate =\"\"\n",
    "        self.list_of_success = [0 for i in range(10)]\n",
    "        self.last_time_learn = datetime.datetime.now()\n",
    "        \n",
    "        \n",
    "  \n",
    "    \n",
    "    def update_word_status(self,answer_correctness):\n",
    "        self.list_of_success.pop(0)\n",
    "        self.list_of_success.append(int(answer_correctness))\n",
    "        self.last_time_learn = datetime.datetime.now()\n",
    "    \n",
    "    def get_time_from_last_repeat(self):\n",
    "        present=datetime.datetime.now()\n",
    "        past=self.last_time_learn\n",
    "        result=present-past\n",
    "        #print(result.seconds//60)\n",
    "        return result.seconds//60\n",
    "         \n",
    "    def get_word_successness(self):\n",
    "        #print(sum(self.list_of_success)/10)\n",
    "        return sum(self.list_of_success)/10\n",
    "        \n",
    "    def get_word_mark(self):\n",
    "        r=(1.01 - self.get_word_successness())*self.get_time_from_last_repeat()\n",
    "        return r\n",
    "    \n",
    "    def print(self):\n",
    "        print(self.word,' : ', self.translate,\".time:\",self.get_time_from_last_repeat(),\",succ:\",self.get_word_successness(),\",mark:\",self.get_word_mark() )\n",
    "        \n",
    "    def print_word(self):\n",
    "        print(self.word)\n",
    "    \n",
    "    def print_translate(self):\n",
    "        print(self.translate)\n",
    "        \n",
    "\n",
    "def create_list_of_id(num,words):\n",
    "    r=[0]\n",
    "    result=[]\n",
    "    for i in range(len(words)):\n",
    "        mark=words[i].get_word_mark()\n",
    "        if  len(r)<num or mark>min(r): # it's equal to len(r)<num or (len(r)==num and mark>min(r)):\n",
    "            r.append(mark)\n",
    "        if len(r)>num:\n",
    "            r.remove(min(r))\n",
    "            \n",
    "    for i in range(len(words)):\n",
    "        if words[i].get_word_mark() in r:\n",
    "            result.append(i)\n",
    "        if len(result)==num:\n",
    "            break\n",
    "    \n",
    "    return result\n",
    "        \n",
    "def dump_vocobularic(voc,path=\"\"):\n",
    "    with open(path+'vocobularic_data.pkl', 'wb') as output:\n",
    "        for obj in voc:\n",
    "            pickle.dump(obj,output,pickle.HIGHEST_PROTOCOL) \n",
    "        \n",
    "b=[]\n",
    "\n",
    "for el in main:\n",
    "    w=wt()\n",
    "    w.word=el;\n",
    "    w.translate=main[el]\n",
    "    b.append(w)\n",
    "\n"
   ]
  },
  {
   "cell_type": "code",
   "execution_count": 211,
   "metadata": {},
   "outputs": [
    {
     "name": "stdout",
     "output_type": "stream",
     "text": [
      "meticulous  :  дотошный .time: 0 ,succ: 0.0 ,mark: 0.0\n",
      "rye  :  рожь .time: 0 ,succ: 0.0 ,mark: 0.0\n",
      "respire  :  отдышаться .time: 0 ,succ: 0.0 ,mark: 0.0\n",
      "respiration  :  дыхание .time: 0 ,succ: 0.0 ,mark: 0.0\n",
      "devise  :  разрабатывать .time: 0 ,succ: 0.0 ,mark: 0.0\n",
      "enclose  :  окружать .time: 0 ,succ: 0.0 ,mark: 0.0\n",
      "aspiration  :  стермление .time: 0 ,succ: 0.0 ,mark: 0.0\n",
      "indirect  :  косвенный .time: 0 ,succ: 0.0 ,mark: 0.0\n",
      "enhance  :  усилить .time: 0 ,succ: 0.0 ,mark: 0.0\n",
      "feasible  :  выполнимый .time: 0 ,succ: 0.0 ,mark: 0.0\n",
      "utilize  :  использовать .time: 0 ,succ: 0.0 ,mark: 0.0\n",
      "seek  :  искать .time: 0 ,succ: 0.0 ,mark: 0.0\n",
      "delight  :  вострог .time: 0 ,succ: 0.0 ,mark: 0.0\n",
      "site  :  место/участок .time: 0 ,succ: 0.0 ,mark: 0.0\n",
      "suit  :  соответствовать/подходить .time: 0 ,succ: 0.0 ,mark: 0.0\n",
      "mediocre  :  посредственный .time: 0 ,succ: 0.0 ,mark: 0.0\n",
      "employ  :  использовать .time: 0 ,succ: 0.0 ,mark: 0.0\n"
     ]
    }
   ],
   "source": [
    "import random \n",
    "#for i in range(50):\n",
    "#    r=random.randint(0,10)\n",
    "#    b[r].update_word_status(random.randint(0,1))\n",
    "    \n",
    "    \n",
    "for el in b:\n",
    "    el.print()"
   ]
  },
  {
   "cell_type": "code",
   "execution_count": 215,
   "metadata": {},
   "outputs": [],
   "source": [
    "a=create_list_of_id(3,b)"
   ]
  },
  {
   "cell_type": "code",
   "execution_count": 216,
   "metadata": {},
   "outputs": [
    {
     "name": "stdout",
     "output_type": "stream",
     "text": [
      "meticulous\n",
      "make guess and pres ENTER\n",
      "дотошный\n",
      "correct guess? 1/0:1\n",
      "respiration\n",
      "make guess and pres ENTER\n",
      "дыхание\n",
      "correct guess? 1/0:1\n",
      "devise\n",
      "make guess and pres ENTER\n",
      "разрабатывать\n",
      "correct guess? 1/0:1\n"
     ]
    }
   ],
   "source": [
    "for i in a:\n",
    "    b[i].print_word()\n",
    "    r=input(\"make guess and pres ENTER\")\n",
    "    b[i].print_translate()\n",
    "    r=input(\"correct guess? 1/0:\")\n",
    "    b[i].update_word_status(r)"
   ]
  },
  {
   "cell_type": "code",
   "execution_count": 218,
   "metadata": {},
   "outputs": [
    {
     "name": "stdout",
     "output_type": "stream",
     "text": [
      "meticulous  :  дотошный .time: 91 ,succ: 0.1 ,mark: 82.81\n",
      "rye  :  рожь .time: 94 ,succ: 0.1 ,mark: 85.54\n",
      "respire  :  отдышаться .time: 94 ,succ: 0.1 ,mark: 85.54\n",
      "respiration  :  дыхание .time: 90 ,succ: 0.1 ,mark: 81.9\n",
      "devise  :  разрабатывать .time: 90 ,succ: 0.1 ,mark: 81.9\n",
      "enclose  :  окружать .time: 94 ,succ: 0.0 ,mark: 94.94\n",
      "aspiration  :  стермление .time: 94 ,succ: 0.0 ,mark: 94.94\n",
      "indirect  :  косвенный .time: 94 ,succ: 0.0 ,mark: 94.94\n",
      "enhance  :  усилить .time: 94 ,succ: 0.0 ,mark: 94.94\n",
      "feasible  :  выполнимый .time: 94 ,succ: 0.0 ,mark: 94.94\n",
      "utilize  :  использовать .time: 94 ,succ: 0.0 ,mark: 94.94\n",
      "seek  :  искать .time: 94 ,succ: 0.0 ,mark: 94.94\n",
      "delight  :  вострог .time: 94 ,succ: 0.0 ,mark: 94.94\n",
      "site  :  место/участок .time: 94 ,succ: 0.0 ,mark: 94.94\n",
      "suit  :  соответствовать/подходить .time: 94 ,succ: 0.0 ,mark: 94.94\n",
      "mediocre  :  посредственный .time: 94 ,succ: 0.0 ,mark: 94.94\n",
      "employ  :  использовать .time: 94 ,succ: 0.0 ,mark: 94.94\n"
     ]
    }
   ],
   "source": [
    "for el in b:\n",
    "    el.print()"
   ]
  },
  {
   "cell_type": "code",
   "execution_count": 228,
   "metadata": {},
   "outputs": [],
   "source": [
    "dump_vocobularic(b)"
   ]
  },
  {
   "cell_type": "code",
   "execution_count": 229,
   "metadata": {},
   "outputs": [
    {
     "ename": "ModuleNotFoundError",
     "evalue": "No module named 'msvcrt'",
     "output_type": "error",
     "traceback": [
      "\u001b[0;31m---------------------------------------------------------------------------\u001b[0m",
      "\u001b[0;31mModuleNotFoundError\u001b[0m                       Traceback (most recent call last)",
      "\u001b[0;32m<ipython-input-229-e3e5f6a26da2>\u001b[0m in \u001b[0;36m<module>\u001b[0;34m()\u001b[0m\n\u001b[0;32m----> 1\u001b[0;31m \u001b[0;32mimport\u001b[0m \u001b[0mmsvcrt\u001b[0m\u001b[0;34m\u001b[0m\u001b[0m\n\u001b[0m\u001b[1;32m      2\u001b[0m \u001b[0;34m\u001b[0m\u001b[0m\n\u001b[1;32m      3\u001b[0m \u001b[0;32mdef\u001b[0m \u001b[0mkbfunc\u001b[0m\u001b[0;34m(\u001b[0m\u001b[0;34m)\u001b[0m\u001b[0;34m:\u001b[0m\u001b[0;34m\u001b[0m\u001b[0m\n\u001b[1;32m      4\u001b[0m    \u001b[0mx\u001b[0m \u001b[0;34m=\u001b[0m \u001b[0mmsvcrt\u001b[0m\u001b[0;34m.\u001b[0m\u001b[0mkbhit\u001b[0m\u001b[0;34m(\u001b[0m\u001b[0;34m)\u001b[0m\u001b[0;34m\u001b[0m\u001b[0m\n\u001b[1;32m      5\u001b[0m    \u001b[0;32mif\u001b[0m \u001b[0mx\u001b[0m\u001b[0;34m:\u001b[0m\u001b[0;34m\u001b[0m\u001b[0m\n",
      "\u001b[0;31mModuleNotFoundError\u001b[0m: No module named 'msvcrt'"
     ]
    }
   ],
   "source": [
    "import msvcrt \n",
    "\n",
    "def kbfunc(): \n",
    "   x = msvcrt.kbhit()\n",
    "   if x: \n",
    "      ret = ord(msvcrt.getch()) \n",
    "   else: \n",
    "      ret = 0 \n",
    "   return ret"
   ]
  },
  {
   "cell_type": "code",
   "execution_count": null,
   "metadata": {},
   "outputs": [
    {
     "name": "stderr",
     "output_type": "stream",
     "text": [
      "Exception in thread Thread-4:\n",
      "Traceback (most recent call last):\n",
      "  File \"/Library/Frameworks/Python.framework/Versions/3.6/lib/python3.6/threading.py\", line 916, in _bootstrap_inner\n",
      "    self.run()\n",
      "  File \"/Library/Frameworks/Python.framework/Versions/3.6/lib/python3.6/threading.py\", line 864, in run\n",
      "    self._target(*self._args, **self._kwargs)\n",
      "  File \"/Library/Frameworks/Python.framework/Versions/3.6/lib/python3.6/site-packages/keyboard/__init__.py\", line 292, in listen\n",
      "    _os_keyboard.listen(self.direct_callback)\n",
      "  File \"/Library/Frameworks/Python.framework/Versions/3.6/lib/python3.6/site-packages/keyboard/_darwinkeyboard.py\", line 430, in listen\n",
      "    raise OSError(\"Error 13 - Must be run as administrator\")\n",
      "OSError: Error 13 - Must be run as administrator\n",
      "\n"
     ]
    }
   ],
   "source": []
  },
  {
   "cell_type": "code",
   "execution_count": null,
   "metadata": {},
   "outputs": [],
   "source": []
  }
 ],
 "metadata": {
  "kernelspec": {
   "display_name": "Python 3",
   "language": "python",
   "name": "python3"
  },
  "language_info": {
   "codemirror_mode": {
    "name": "ipython",
    "version": 3
   },
   "file_extension": ".py",
   "mimetype": "text/x-python",
   "name": "python",
   "nbconvert_exporter": "python",
   "pygments_lexer": "ipython3",
   "version": "3.6.4"
  }
 },
 "nbformat": 4,
 "nbformat_minor": 2
}
